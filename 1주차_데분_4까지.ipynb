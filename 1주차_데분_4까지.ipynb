{
  "nbformat": 4,
  "nbformat_minor": 0,
  "metadata": {
    "colab": {
      "provenance": [],
      "authorship_tag": "ABX9TyMQcN3TPqtXc+4PQ9ZaGM4d",
      "include_colab_link": true
    },
    "kernelspec": {
      "name": "python3",
      "display_name": "Python 3"
    },
    "language_info": {
      "name": "python"
    }
  },
  "cells": [
    {
      "cell_type": "markdown",
      "metadata": {
        "id": "view-in-github",
        "colab_type": "text"
      },
      "source": [
        "<a href=\"https://colab.research.google.com/github/yeho99/STATISTICS/blob/main/1%EC%A3%BC%EC%B0%A8_%EB%8D%B0%EB%B6%84_4%EA%B9%8C%EC%A7%80.ipynb\" target=\"_parent\"><img src=\"https://colab.research.google.com/assets/colab-badge.svg\" alt=\"Open In Colab\"/></a>"
      ]
    },
    {
      "cell_type": "code",
      "source": [
        "import this\n"
      ],
      "metadata": {
        "colab": {
          "base_uri": "https://localhost:8080/"
        },
        "id": "3DwUo_jbFRcT",
        "outputId": "994a2292-cd61-4cbe-82ea-add554194c0d"
      },
      "execution_count": null,
      "outputs": [
        {
          "output_type": "stream",
          "name": "stdout",
          "text": [
            "The Zen of Python, by Tim Peters\n",
            "\n",
            "Beautiful is better than ugly.\n",
            "Explicit is better than implicit.\n",
            "Simple is better than complex.\n",
            "Complex is better than complicated.\n",
            "Flat is better than nested.\n",
            "Sparse is better than dense.\n",
            "Readability counts.\n",
            "Special cases aren't special enough to break the rules.\n",
            "Although practicality beats purity.\n",
            "Errors should never pass silently.\n",
            "Unless explicitly silenced.\n",
            "In the face of ambiguity, refuse the temptation to guess.\n",
            "There should be one-- and preferably only one --obvious way to do it.\n",
            "Although that way may not be obvious at first unless you're Dutch.\n",
            "Now is better than never.\n",
            "Although never is often better than *right* now.\n",
            "If the implementation is hard to explain, it's a bad idea.\n",
            "If the implementation is easy to explain, it may be a good idea.\n",
            "Namespaces are one honking great idea -- let's do more of those!\n"
          ]
        }
      ]
    },
    {
      "cell_type": "markdown",
      "source": [
        "###4.1 파이썬의 자료형"
      ],
      "metadata": {
        "id": "lTBkj8DO8WpV"
      }
    },
    {
      "cell_type": "markdown",
      "source": [
        "#####4.1.1 파이썬의 숫자와 기본연산"
      ],
      "metadata": {
        "id": "JWoiZVHp97BJ"
      }
    },
    {
      "cell_type": "markdown",
      "source": [
        "숫자"
      ],
      "metadata": {
        "id": "alYg0cuAHVRO"
      }
    },
    {
      "cell_type": "markdown",
      "source": [
        "https://docs.python.org/ko/3/tutorial/introduction.html#numbers"
      ],
      "metadata": {
        "id": "23cmGbGXFxuW"
      }
    },
    {
      "cell_type": "code",
      "source": [
        "1"
      ],
      "metadata": {
        "colab": {
          "base_uri": "https://localhost:8080/"
        },
        "id": "iITj6Tj-FkZL",
        "outputId": "a54f18d7-557d-4e39-9230-24947fec4d08"
      },
      "execution_count": null,
      "outputs": [
        {
          "output_type": "execute_result",
          "data": {
            "text/plain": [
              "1"
            ]
          },
          "metadata": {},
          "execution_count": 2
        }
      ]
    },
    {
      "cell_type": "code",
      "source": [
        "1.0"
      ],
      "metadata": {
        "colab": {
          "base_uri": "https://localhost:8080/"
        },
        "id": "skb211zDFpgS",
        "outputId": "1d8082f2-216f-4228-d367-6250ceeb4fb2"
      },
      "execution_count": null,
      "outputs": [
        {
          "output_type": "execute_result",
          "data": {
            "text/plain": [
              "1.0"
            ]
          },
          "metadata": {},
          "execution_count": 3
        }
      ]
    },
    {
      "cell_type": "code",
      "source": [
        "type(1)"
      ],
      "metadata": {
        "colab": {
          "base_uri": "https://localhost:8080/"
        },
        "id": "EY0H7PPOFr2H",
        "outputId": "26e7e83c-bdf3-4e9a-c9c6-aca22210338a"
      },
      "execution_count": null,
      "outputs": [
        {
          "output_type": "execute_result",
          "data": {
            "text/plain": [
              "int"
            ]
          },
          "metadata": {},
          "execution_count": 4
        }
      ]
    },
    {
      "cell_type": "code",
      "source": [
        "type(1.0)"
      ],
      "metadata": {
        "colab": {
          "base_uri": "https://localhost:8080/"
        },
        "id": "KGxU2GrcG--9",
        "outputId": "ea59351d-7250-4db1-ea72-f32f8e4418ca"
      },
      "execution_count": null,
      "outputs": [
        {
          "output_type": "execute_result",
          "data": {
            "text/plain": [
              "float"
            ]
          },
          "metadata": {},
          "execution_count": 5
        }
      ]
    },
    {
      "cell_type": "markdown",
      "source": [
        "사칙연산"
      ],
      "metadata": {
        "id": "V4CZvBEcHQMc"
      }
    },
    {
      "cell_type": "code",
      "source": [
        "1 + 2"
      ],
      "metadata": {
        "colab": {
          "base_uri": "https://localhost:8080/"
        },
        "id": "fg9PogfYHGuw",
        "outputId": "8350eed9-442c-4c0e-d85c-8330f41b51d6"
      },
      "execution_count": null,
      "outputs": [
        {
          "output_type": "execute_result",
          "data": {
            "text/plain": [
              "3"
            ]
          },
          "metadata": {},
          "execution_count": 9
        }
      ]
    },
    {
      "cell_type": "code",
      "source": [
        "3 - 2"
      ],
      "metadata": {
        "colab": {
          "base_uri": "https://localhost:8080/"
        },
        "id": "9arSmjU6Hc5p",
        "outputId": "3fcb6058-5ce1-4f88-bc1a-e96ca0988914"
      },
      "execution_count": null,
      "outputs": [
        {
          "output_type": "execute_result",
          "data": {
            "text/plain": [
              "1"
            ]
          },
          "metadata": {},
          "execution_count": 10
        }
      ]
    },
    {
      "cell_type": "code",
      "source": [
        "2 * 3"
      ],
      "metadata": {
        "colab": {
          "base_uri": "https://localhost:8080/"
        },
        "id": "RdbVICHAHkIr",
        "outputId": "267b32a1-f53c-40a6-e912-6469c76ac9f9"
      },
      "execution_count": null,
      "outputs": [
        {
          "output_type": "execute_result",
          "data": {
            "text/plain": [
              "6"
            ]
          },
          "metadata": {},
          "execution_count": 11
        }
      ]
    },
    {
      "cell_type": "code",
      "source": [
        "3 / 2"
      ],
      "metadata": {
        "colab": {
          "base_uri": "https://localhost:8080/"
        },
        "id": "YOlycdsyHoYP",
        "outputId": "f462f227-3f8f-4dcf-da51-bdb63f712803"
      },
      "execution_count": null,
      "outputs": [
        {
          "output_type": "execute_result",
          "data": {
            "text/plain": [
              "1.5"
            ]
          },
          "metadata": {},
          "execution_count": 12
        }
      ]
    },
    {
      "cell_type": "code",
      "source": [
        "3 // 2"
      ],
      "metadata": {
        "colab": {
          "base_uri": "https://localhost:8080/"
        },
        "id": "QnCBzArMH5Op",
        "outputId": "f5dfee7a-d9c7-4ad5-dcc7-bd5a75bf1d8e"
      },
      "execution_count": null,
      "outputs": [
        {
          "output_type": "execute_result",
          "data": {
            "text/plain": [
              "1"
            ]
          },
          "metadata": {},
          "execution_count": 13
        }
      ]
    },
    {
      "cell_type": "code",
      "source": [
        "3 % 2"
      ],
      "metadata": {
        "colab": {
          "base_uri": "https://localhost:8080/"
        },
        "id": "JZxb_i7lH9Gk",
        "outputId": "800f8096-c12e-474e-ff31-f3ca53eaa456"
      },
      "execution_count": null,
      "outputs": [
        {
          "output_type": "execute_result",
          "data": {
            "text/plain": [
              "1"
            ]
          },
          "metadata": {},
          "execution_count": 14
        }
      ]
    },
    {
      "cell_type": "markdown",
      "source": [
        "변수\n",
        "\n",
        "변수명은 숫자로 시작할 수 없습니다.\n",
        "변수명은 언더바(_)를 제외한 특수문자를 사용할 수 없습니다."
      ],
      "metadata": {
        "id": "F8RCx8d2IUtN"
      }
    },
    {
      "cell_type": "code",
      "source": [
        "n = 1\n",
        "n_1 = 1"
      ],
      "metadata": {
        "id": "P883_is_IAtc"
      },
      "execution_count": null,
      "outputs": []
    },
    {
      "cell_type": "markdown",
      "source": [
        "응용"
      ],
      "metadata": {
        "id": "GyQS4RS-JxSu"
      }
    },
    {
      "cell_type": "code",
      "source": [
        "width = 20\n",
        "height = 5\n",
        "\n",
        "width * height"
      ],
      "metadata": {
        "colab": {
          "base_uri": "https://localhost:8080/"
        },
        "id": "8bqHo2qVIJF4",
        "outputId": "d25f528a-9834-43ba-d1d7-61b2bac89658"
      },
      "execution_count": null,
      "outputs": [
        {
          "output_type": "execute_result",
          "data": {
            "text/plain": [
              "100"
            ]
          },
          "metadata": {},
          "execution_count": 18
        }
      ]
    },
    {
      "cell_type": "markdown",
      "source": [],
      "metadata": {
        "id": "YCohyuGeKLc0"
      }
    },
    {
      "cell_type": "markdown",
      "source": [
        "#####4.1.2 파이썬의 문자열"
      ],
      "metadata": {
        "id": "10kVeb-_KLyX"
      }
    },
    {
      "cell_type": "code",
      "source": [
        "\"파이썬\""
      ],
      "metadata": {
        "colab": {
          "base_uri": "https://localhost:8080/",
          "height": 35
        },
        "id": "KjCATM5_J-9q",
        "outputId": "f91f000b-4b47-44c0-f6a7-39243804ff1e"
      },
      "execution_count": null,
      "outputs": [
        {
          "output_type": "execute_result",
          "data": {
            "text/plain": [
              "'파이썬'"
            ],
            "application/vnd.google.colaboratory.intrinsic+json": {
              "type": "string"
            }
          },
          "metadata": {},
          "execution_count": 19
        }
      ]
    },
    {
      "cell_type": "code",
      "source": [
        "'파이썬'"
      ],
      "metadata": {
        "colab": {
          "base_uri": "https://localhost:8080/",
          "height": 35
        },
        "id": "YZPgsjKVLP4I",
        "outputId": "fa57e468-0061-4ff4-be5f-d7a1abcb6682"
      },
      "execution_count": null,
      "outputs": [
        {
          "output_type": "execute_result",
          "data": {
            "text/plain": [
              "'파이썬'"
            ],
            "application/vnd.google.colaboratory.intrinsic+json": {
              "type": "string"
            }
          },
          "metadata": {},
          "execution_count": 20
        }
      ]
    },
    {
      "cell_type": "code",
      "source": [
        "\"파이썬's\""
      ],
      "metadata": {
        "colab": {
          "base_uri": "https://localhost:8080/",
          "height": 35
        },
        "id": "EG0aAUqWLSil",
        "outputId": "9751aee0-ab31-4318-a68f-7779fdd06ccd"
      },
      "execution_count": null,
      "outputs": [
        {
          "output_type": "execute_result",
          "data": {
            "text/plain": [
              "\"파이썬's\""
            ],
            "application/vnd.google.colaboratory.intrinsic+json": {
              "type": "string"
            }
          },
          "metadata": {},
          "execution_count": 21
        }
      ]
    },
    {
      "cell_type": "code",
      "source": [
        "'파이썬＼'s'"
      ],
      "metadata": {
        "colab": {
          "base_uri": "https://localhost:8080/",
          "height": 110
        },
        "id": "WQUbPOeJLm_v",
        "outputId": "288c672d-902b-4f10-e083-372ff2cc1408"
      },
      "execution_count": null,
      "outputs": [
        {
          "output_type": "error",
          "ename": "SyntaxError",
          "evalue": "unterminated string literal (detected at line 1) (ipython-input-1632872412.py, line 1)",
          "traceback": [
            "\u001b[0;36m  File \u001b[0;32m\"/tmp/ipython-input-1632872412.py\"\u001b[0;36m, line \u001b[0;32m1\u001b[0m\n\u001b[0;31m    '파이썬＼'s'\u001b[0m\n\u001b[0m           ^\u001b[0m\n\u001b[0;31mSyntaxError\u001b[0m\u001b[0;31m:\u001b[0m unterminated string literal (detected at line 1)\n"
          ]
        }
      ]
    },
    {
      "cell_type": "code",
      "source": [
        "\"\"\"\n",
        "줄바꿈\n",
        "문자를\n",
        "표현합니다\n",
        "\"\"\""
      ],
      "metadata": {
        "colab": {
          "base_uri": "https://localhost:8080/",
          "height": 35
        },
        "id": "9NonGM9PWvtO",
        "outputId": "db1b33f0-a56f-4ff3-e9e3-f894438d6667"
      },
      "execution_count": null,
      "outputs": [
        {
          "output_type": "execute_result",
          "data": {
            "text/plain": [
              "'\\n줄바꿈 \\n문자를\\n표현합니다\\n'"
            ],
            "application/vnd.google.colaboratory.intrinsic+json": {
              "type": "string"
            }
          },
          "metadata": {},
          "execution_count": 9
        }
      ]
    },
    {
      "cell_type": "code",
      "source": [
        "\"-\"*50"
      ],
      "metadata": {
        "id": "6IsoktDMLu0b",
        "colab": {
          "base_uri": "https://localhost:8080/",
          "height": 35
        },
        "outputId": "03ee1b0e-c454-48e9-ce22-c6e7ec7a83f8"
      },
      "execution_count": null,
      "outputs": [
        {
          "output_type": "execute_result",
          "data": {
            "text/plain": [
              "'--------------------------------------------------'"
            ],
            "application/vnd.google.colaboratory.intrinsic+json": {
              "type": "string"
            }
          },
          "metadata": {},
          "execution_count": 11
        }
      ]
    },
    {
      "cell_type": "markdown",
      "source": [
        "문자열 인덱싱\n",
        "+---+---+---+---+---+---+\n",
        " | P | y | t | h | o | n |\n",
        " +---+---+---+---+---+---+\n",
        " 0   1   2   3   4   5   6\n",
        "-6  -5  -4  -3  -2  -1"
      ],
      "metadata": {
        "id": "CQVipEg0X_hc"
      }
    },
    {
      "cell_type": "code",
      "source": [
        "word=\"python's hobby?\"\n",
        "word"
      ],
      "metadata": {
        "colab": {
          "base_uri": "https://localhost:8080/",
          "height": 35
        },
        "id": "O8TJDpw1Xxjw",
        "outputId": "0f7488c4-828b-4368-b5df-96ecabbf4f24"
      },
      "execution_count": null,
      "outputs": [
        {
          "output_type": "execute_result",
          "data": {
            "text/plain": [
              "\"python's hobby?\""
            ],
            "application/vnd.google.colaboratory.intrinsic+json": {
              "type": "string"
            }
          },
          "metadata": {},
          "execution_count": 13
        }
      ]
    },
    {
      "cell_type": "code",
      "source": [
        "word[0]"
      ],
      "metadata": {
        "colab": {
          "base_uri": "https://localhost:8080/",
          "height": 35
        },
        "id": "ZoS0ZS7jYT59",
        "outputId": "0fbde62c-40cf-4789-93f5-eed3bc2b4a62"
      },
      "execution_count": null,
      "outputs": [
        {
          "output_type": "execute_result",
          "data": {
            "text/plain": [
              "'p'"
            ],
            "application/vnd.google.colaboratory.intrinsic+json": {
              "type": "string"
            }
          },
          "metadata": {},
          "execution_count": 14
        }
      ]
    },
    {
      "cell_type": "code",
      "source": [
        "word[1]"
      ],
      "metadata": {
        "colab": {
          "base_uri": "https://localhost:8080/",
          "height": 35
        },
        "id": "ipcop_rIYYy3",
        "outputId": "07423113-887b-48a9-8eb9-5981395b84a6"
      },
      "execution_count": null,
      "outputs": [
        {
          "output_type": "execute_result",
          "data": {
            "text/plain": [
              "'y'"
            ],
            "application/vnd.google.colaboratory.intrinsic+json": {
              "type": "string"
            }
          },
          "metadata": {},
          "execution_count": 15
        }
      ]
    },
    {
      "cell_type": "code",
      "source": [
        "word[-1]"
      ],
      "metadata": {
        "colab": {
          "base_uri": "https://localhost:8080/",
          "height": 35
        },
        "id": "GBsgZeSEYc-M",
        "outputId": "125b0b94-8c0c-4f58-96c1-f972c4b4adc9"
      },
      "execution_count": null,
      "outputs": [
        {
          "output_type": "execute_result",
          "data": {
            "text/plain": [
              "'?'"
            ],
            "application/vnd.google.colaboratory.intrinsic+json": {
              "type": "string"
            }
          },
          "metadata": {},
          "execution_count": 16
        }
      ]
    },
    {
      "cell_type": "markdown",
      "source": [
        "문자열 슬라이싱"
      ],
      "metadata": {
        "id": "0egYO2nfYuSS"
      }
    },
    {
      "cell_type": "code",
      "source": [
        "word[0:6]"
      ],
      "metadata": {
        "colab": {
          "base_uri": "https://localhost:8080/",
          "height": 35
        },
        "id": "oQSmAD3zYo_R",
        "outputId": "9ca347aa-244e-4920-b909-44ebcb70e382"
      },
      "execution_count": null,
      "outputs": [
        {
          "output_type": "execute_result",
          "data": {
            "text/plain": [
              "'python'"
            ],
            "application/vnd.google.colaboratory.intrinsic+json": {
              "type": "string"
            }
          },
          "metadata": {},
          "execution_count": 17
        }
      ]
    },
    {
      "cell_type": "code",
      "source": [
        "word[-6:]"
      ],
      "metadata": {
        "colab": {
          "base_uri": "https://localhost:8080/",
          "height": 35
        },
        "id": "U0gdJu_WY4xP",
        "outputId": "2e88e5ca-9529-40a3-dd57-ebe1782d60a6"
      },
      "execution_count": null,
      "outputs": [
        {
          "output_type": "execute_result",
          "data": {
            "text/plain": [
              "'hobby?'"
            ],
            "application/vnd.google.colaboratory.intrinsic+json": {
              "type": "string"
            }
          },
          "metadata": {},
          "execution_count": 19
        }
      ]
    },
    {
      "cell_type": "code",
      "source": [
        "word[:]"
      ],
      "metadata": {
        "colab": {
          "base_uri": "https://localhost:8080/",
          "height": 35
        },
        "id": "NEZLSyXIZAp6",
        "outputId": "e9df5281-ac85-498e-dac2-1d634bfa6ab9"
      },
      "execution_count": null,
      "outputs": [
        {
          "output_type": "execute_result",
          "data": {
            "text/plain": [
              "\"python's hobby?\""
            ],
            "application/vnd.google.colaboratory.intrinsic+json": {
              "type": "string"
            }
          },
          "metadata": {},
          "execution_count": 20
        }
      ]
    },
    {
      "cell_type": "code",
      "source": [
        "word[2:6]"
      ],
      "metadata": {
        "colab": {
          "base_uri": "https://localhost:8080/",
          "height": 35
        },
        "id": "Z_vjyYYiZE50",
        "outputId": "c704098b-c8f0-4459-d879-b58f6c58656e"
      },
      "execution_count": null,
      "outputs": [
        {
          "output_type": "execute_result",
          "data": {
            "text/plain": [
              "'thon'"
            ],
            "application/vnd.google.colaboratory.intrinsic+json": {
              "type": "string"
            }
          },
          "metadata": {},
          "execution_count": 22
        }
      ]
    },
    {
      "cell_type": "markdown",
      "source": [
        "문자열함수"
      ],
      "metadata": {
        "id": "I7MRBWyzZUGa"
      }
    },
    {
      "cell_type": "code",
      "source": [
        "word.lower()"
      ],
      "metadata": {
        "colab": {
          "base_uri": "https://localhost:8080/",
          "height": 35
        },
        "id": "o3sFnZ7xZMwb",
        "outputId": "623b153a-47f5-4ff3-b8af-313c2b4beaef"
      },
      "execution_count": null,
      "outputs": [
        {
          "output_type": "execute_result",
          "data": {
            "text/plain": [
              "\"python's hobby?\""
            ],
            "application/vnd.google.colaboratory.intrinsic+json": {
              "type": "string"
            }
          },
          "metadata": {},
          "execution_count": 24
        }
      ]
    },
    {
      "cell_type": "code",
      "source": [
        "word. upper()"
      ],
      "metadata": {
        "colab": {
          "base_uri": "https://localhost:8080/",
          "height": 35
        },
        "id": "2XFf0Ub5ZkO0",
        "outputId": "5aaa8290-a096-4bb4-f724-d92a63844c61"
      },
      "execution_count": null,
      "outputs": [
        {
          "output_type": "execute_result",
          "data": {
            "text/plain": [
              "\"PYTHON'S HOBBY?\""
            ],
            "application/vnd.google.colaboratory.intrinsic+json": {
              "type": "string"
            }
          },
          "metadata": {},
          "execution_count": 26
        }
      ]
    },
    {
      "cell_type": "markdown",
      "source": [
        "리스트"
      ],
      "metadata": {
        "id": "1qrPBd1AaAdB"
      }
    },
    {
      "cell_type": "code",
      "source": [
        "squares = [1, 4, 9, 16, 25]\n",
        "squares"
      ],
      "metadata": {
        "colab": {
          "base_uri": "https://localhost:8080/"
        },
        "id": "I2fM4qQIZrPi",
        "outputId": "4168a093-3f16-42aa-e64e-2bda22f09551"
      },
      "execution_count": null,
      "outputs": [
        {
          "output_type": "execute_result",
          "data": {
            "text/plain": [
              "[1, 4, 9, 16, 25]"
            ]
          },
          "metadata": {},
          "execution_count": 27
        }
      ]
    },
    {
      "cell_type": "code",
      "source": [
        "type([])"
      ],
      "metadata": {
        "colab": {
          "base_uri": "https://localhost:8080/"
        },
        "id": "ekU67lDyaayR",
        "outputId": "2bcac022-e7fa-46a1-d912-8971fb0d444a"
      },
      "execution_count": null,
      "outputs": [
        {
          "output_type": "execute_result",
          "data": {
            "text/plain": [
              "list"
            ]
          },
          "metadata": {},
          "execution_count": 29
        }
      ]
    },
    {
      "cell_type": "markdown",
      "source": [
        "리스트 인덱싱"
      ],
      "metadata": {
        "id": "ZuEDm0yOaRXV"
      }
    },
    {
      "cell_type": "code",
      "source": [
        "squares[0]"
      ],
      "metadata": {
        "colab": {
          "base_uri": "https://localhost:8080/"
        },
        "id": "yQ8tZyyQaP1e",
        "outputId": "76e133e6-bd20-4c45-9878-68de33b0dc08"
      },
      "execution_count": null,
      "outputs": [
        {
          "output_type": "execute_result",
          "data": {
            "text/plain": [
              "1"
            ]
          },
          "metadata": {},
          "execution_count": 30
        }
      ]
    },
    {
      "cell_type": "code",
      "source": [
        "squares[-1]"
      ],
      "metadata": {
        "colab": {
          "base_uri": "https://localhost:8080/"
        },
        "id": "24IJzCTJaoeZ",
        "outputId": "e6b4feac-ed03-4a6a-ec85-0003c969c55d"
      },
      "execution_count": null,
      "outputs": [
        {
          "output_type": "execute_result",
          "data": {
            "text/plain": [
              "25"
            ]
          },
          "metadata": {},
          "execution_count": 31
        }
      ]
    },
    {
      "cell_type": "code",
      "source": [
        "squares[-3]"
      ],
      "metadata": {
        "colab": {
          "base_uri": "https://localhost:8080/"
        },
        "id": "KIOsjSOratxH",
        "outputId": "2d4b3db6-a364-4d46-990d-faefc88f7a84"
      },
      "execution_count": null,
      "outputs": [
        {
          "output_type": "execute_result",
          "data": {
            "text/plain": [
              "9"
            ]
          },
          "metadata": {},
          "execution_count": 32
        }
      ]
    },
    {
      "cell_type": "markdown",
      "source": [
        "리스트 슬라이싱"
      ],
      "metadata": {
        "id": "2jHg1Q69a3HY"
      }
    },
    {
      "cell_type": "code",
      "source": [
        "squares[:]"
      ],
      "metadata": {
        "colab": {
          "base_uri": "https://localhost:8080/"
        },
        "id": "ysk5uPm6a22p",
        "outputId": "7e5cce92-499e-4b4d-9fc8-4e0a867335c9"
      },
      "execution_count": null,
      "outputs": [
        {
          "output_type": "execute_result",
          "data": {
            "text/plain": [
              "[1, 4, 9, 16, 25]"
            ]
          },
          "metadata": {},
          "execution_count": 34
        }
      ]
    },
    {
      "cell_type": "code",
      "source": [
        "squares[:3]"
      ],
      "metadata": {
        "colab": {
          "base_uri": "https://localhost:8080/"
        },
        "id": "aLcee-EXawcx",
        "outputId": "cdb1e2d2-851d-4b93-ee1a-d0a1c05e2c91"
      },
      "execution_count": null,
      "outputs": [
        {
          "output_type": "execute_result",
          "data": {
            "text/plain": [
              "[1, 4, 9]"
            ]
          },
          "metadata": {},
          "execution_count": 36
        }
      ]
    },
    {
      "cell_type": "code",
      "source": [
        "squares[-3:]"
      ],
      "metadata": {
        "colab": {
          "base_uri": "https://localhost:8080/"
        },
        "id": "S2Fk_XoGrj5n",
        "outputId": "cd8227d9-5089-423a-cc29-f6ca3fccb9d9"
      },
      "execution_count": null,
      "outputs": [
        {
          "output_type": "execute_result",
          "data": {
            "text/plain": [
              "[9, 16, 25]"
            ]
          },
          "metadata": {},
          "execution_count": 37
        }
      ]
    },
    {
      "cell_type": "markdown",
      "source": [
        "리스트의 함수"
      ],
      "metadata": {
        "id": "U0so0-I3rweT"
      }
    },
    {
      "cell_type": "code",
      "source": [
        "squares.append(36)\n",
        "squares"
      ],
      "metadata": {
        "colab": {
          "base_uri": "https://localhost:8080/"
        },
        "id": "r7DqOwL3rsQc",
        "outputId": "485e1932-a784-405f-8061-2c6c4bfd149e"
      },
      "execution_count": null,
      "outputs": [
        {
          "output_type": "execute_result",
          "data": {
            "text/plain": [
              "[1, 4, 9, 16, 25, 36]"
            ]
          },
          "metadata": {},
          "execution_count": 38
        }
      ]
    },
    {
      "cell_type": "code",
      "source": [
        "squares.remove(36)\n",
        "squares"
      ],
      "metadata": {
        "colab": {
          "base_uri": "https://localhost:8080/"
        },
        "id": "gC_Jc8ljr9uK",
        "outputId": "75c7a9ec-b592-4865-80ab-dc7bc268cd7f"
      },
      "execution_count": null,
      "outputs": [
        {
          "output_type": "execute_result",
          "data": {
            "text/plain": [
              "[1, 4, 9, 16, 25]"
            ]
          },
          "metadata": {},
          "execution_count": 39
        }
      ]
    },
    {
      "cell_type": "markdown",
      "source": [
        "딕셔너리"
      ],
      "metadata": {
        "id": "mF-OFZObsgyY"
      }
    },
    {
      "cell_type": "code",
      "source": [
        "type({})"
      ],
      "metadata": {
        "colab": {
          "base_uri": "https://localhost:8080/"
        },
        "id": "WI8cjtsXsFHy",
        "outputId": "4a0e6ccf-6f24-4f2d-dbe0-26061d4f233e"
      },
      "execution_count": null,
      "outputs": [
        {
          "output_type": "execute_result",
          "data": {
            "text/plain": [
              "dict"
            ]
          },
          "metadata": {},
          "execution_count": 40
        }
      ]
    },
    {
      "cell_type": "code",
      "source": [
        "재고={'감자': 4098, '고구마' : 4139, '쪽파' : 100}\n",
        "재고"
      ],
      "metadata": {
        "colab": {
          "base_uri": "https://localhost:8080/"
        },
        "id": "ULntz-fqsvpe",
        "outputId": "5e5b4a9d-47d0-47bf-c925-0cd63bdfeba0"
      },
      "execution_count": null,
      "outputs": [
        {
          "output_type": "execute_result",
          "data": {
            "text/plain": [
              "{'감자': 4098, '고구마': 4139, '쪽파': 100}"
            ]
          },
          "metadata": {},
          "execution_count": 41
        }
      ]
    },
    {
      "cell_type": "code",
      "source": [
        "재고[\"대파\"]=456\n",
        "재고"
      ],
      "metadata": {
        "colab": {
          "base_uri": "https://localhost:8080/"
        },
        "id": "gI0S1agMtP3v",
        "outputId": "78aa3e78-df7a-46d9-b49c-e6fac4a5f70f"
      },
      "execution_count": null,
      "outputs": [
        {
          "output_type": "execute_result",
          "data": {
            "text/plain": [
              "{'감자': 4098, '고구마': 4139, '쪽파': 100, '대파': 456}"
            ]
          },
          "metadata": {},
          "execution_count": 52
        }
      ]
    },
    {
      "cell_type": "code",
      "source": [
        "재고[\"대파\"]"
      ],
      "metadata": {
        "colab": {
          "base_uri": "https://localhost:8080/"
        },
        "id": "OrVXAzgqtZy7",
        "outputId": "b5646097-eb8b-450f-fae4-3c9013dd18e0"
      },
      "execution_count": null,
      "outputs": [
        {
          "output_type": "execute_result",
          "data": {
            "text/plain": [
              "456"
            ]
          },
          "metadata": {},
          "execution_count": 53
        }
      ]
    },
    {
      "cell_type": "code",
      "source": [
        "재고[\"양파\"]=643\n",
        "재고"
      ],
      "metadata": {
        "colab": {
          "base_uri": "https://localhost:8080/"
        },
        "id": "wkMNZbkxthi4",
        "outputId": "7d28851a-0827-425a-c60c-82b19093196a"
      },
      "execution_count": null,
      "outputs": [
        {
          "output_type": "execute_result",
          "data": {
            "text/plain": [
              "{'감자': 4098, '고구마': 4139, '쪽파': 100, '대파': 456, '양파': 643}"
            ]
          },
          "metadata": {},
          "execution_count": 54
        }
      ]
    },
    {
      "cell_type": "code",
      "source": [
        "del 재고[\"양파\"]"
      ],
      "metadata": {
        "id": "hwB-a7WLtoWK"
      },
      "execution_count": null,
      "outputs": []
    },
    {
      "cell_type": "code",
      "source": [
        "재고"
      ],
      "metadata": {
        "colab": {
          "base_uri": "https://localhost:8080/"
        },
        "id": "lVxNpk7stt0I",
        "outputId": "210d5c5e-de99-4be6-f537-12558f0fd276"
      },
      "execution_count": null,
      "outputs": [
        {
          "output_type": "execute_result",
          "data": {
            "text/plain": [
              "{'감자': 4098, '고구마': 4139, '쪽파': 100, '대파': 456}"
            ]
          },
          "metadata": {},
          "execution_count": 56
        }
      ]
    },
    {
      "cell_type": "code",
      "source": [
        "list(재고)"
      ],
      "metadata": {
        "colab": {
          "base_uri": "https://localhost:8080/"
        },
        "id": "am2CFSIPtwvg",
        "outputId": "87e8edb0-eff0-42c6-87e2-356aefbf0eff"
      },
      "execution_count": null,
      "outputs": [
        {
          "output_type": "execute_result",
          "data": {
            "text/plain": [
              "['감자', '고구마', '쪽파', '대파']"
            ]
          },
          "metadata": {},
          "execution_count": 57
        }
      ]
    },
    {
      "cell_type": "code",
      "source": [
        "sorted(재고)"
      ],
      "metadata": {
        "colab": {
          "base_uri": "https://localhost:8080/"
        },
        "id": "P3pBD6x2t1ET",
        "outputId": "9ecc5512-244c-49df-d396-d903efc223d2"
      },
      "execution_count": null,
      "outputs": [
        {
          "output_type": "execute_result",
          "data": {
            "text/plain": [
              "['감자', '고구마', '대파', '쪽파']"
            ]
          },
          "metadata": {},
          "execution_count": 58
        }
      ]
    },
    {
      "cell_type": "code",
      "source": [
        "재고.keys()"
      ],
      "metadata": {
        "colab": {
          "base_uri": "https://localhost:8080/"
        },
        "id": "2SZoLqPtt8Fo",
        "outputId": "1227b3d4-2a3d-4c64-b555-835aaacb29d3"
      },
      "execution_count": null,
      "outputs": [
        {
          "output_type": "execute_result",
          "data": {
            "text/plain": [
              "dict_keys(['감자', '고구마', '쪽파', '대파'])"
            ]
          },
          "metadata": {},
          "execution_count": 59
        }
      ]
    },
    {
      "cell_type": "code",
      "source": [
        "재고.values()"
      ],
      "metadata": {
        "colab": {
          "base_uri": "https://localhost:8080/"
        },
        "id": "bAkw_20guC59",
        "outputId": "3af12b9f-0009-4e0f-c2eb-4b8ae417fbff"
      },
      "execution_count": null,
      "outputs": [
        {
          "output_type": "execute_result",
          "data": {
            "text/plain": [
              "dict_values([4098, 4139, 100, 456])"
            ]
          },
          "metadata": {},
          "execution_count": 60
        }
      ]
    },
    {
      "cell_type": "markdown",
      "source": [
        "###4.2 파이썬의 제어문과 함수"
      ],
      "metadata": {
        "id": "GC8gnO6vudFO"
      }
    },
    {
      "cell_type": "markdown",
      "source": [
        "조건문\n",
        "if"
      ],
      "metadata": {
        "id": "49UL1Ldiu8I7"
      }
    },
    {
      "cell_type": "code",
      "source": [
        "x=int(input(\"Please enter an integer: \"))\n",
        "x\n",
        "if x > 0 :\n",
        "    print (\"양수\")\n",
        "elif x==0 :\n",
        "    print (\"영\")\n",
        "else :\n",
        "    print (\"음수\")"
      ],
      "metadata": {
        "id": "l-cf2oHmuG3T",
        "colab": {
          "base_uri": "https://localhost:8080/"
        },
        "outputId": "73a471d0-8a09-4c97-ae63-8a254a338dea"
      },
      "execution_count": null,
      "outputs": [
        {
          "output_type": "stream",
          "name": "stdout",
          "text": [
            "Please enter an integer: 0\n",
            "영\n"
          ]
        }
      ]
    },
    {
      "cell_type": "markdown",
      "source": [
        "반복문 for"
      ],
      "metadata": {
        "id": "HtPCk_MdQ4L9"
      }
    },
    {
      "cell_type": "code",
      "source": [
        "words = ['배추', '무', '토마토', '사과']\n",
        "for w in words :\n",
        "    print (w)"
      ],
      "metadata": {
        "colab": {
          "base_uri": "https://localhost:8080/"
        },
        "id": "c74_DXsUPdt3",
        "outputId": "11fa0149-35f6-4b5c-ca98-b6315cf923de"
      },
      "execution_count": null,
      "outputs": [
        {
          "output_type": "stream",
          "name": "stdout",
          "text": [
            "배추\n",
            "무\n",
            "토마토\n",
            "사과\n"
          ]
        }
      ]
    },
    {
      "cell_type": "markdown",
      "source": [
        "range()함수"
      ],
      "metadata": {
        "id": "nGjqpK8C8qSf"
      }
    },
    {
      "cell_type": "code",
      "source": [
        "list(range(5))"
      ],
      "metadata": {
        "colab": {
          "base_uri": "https://localhost:8080/"
        },
        "id": "_lsJRd9s79lr",
        "outputId": "d4d6f48a-4889-44dd-dccd-a99f0bbb44d5"
      },
      "execution_count": null,
      "outputs": [
        {
          "output_type": "execute_result",
          "data": {
            "text/plain": [
              "[0, 1, 2, 3, 4]"
            ]
          },
          "metadata": {},
          "execution_count": 2
        }
      ]
    },
    {
      "cell_type": "code",
      "source": [
        "for i in range(5) :\n",
        "    print(i)"
      ],
      "metadata": {
        "colab": {
          "base_uri": "https://localhost:8080/"
        },
        "id": "w00_qaJn-Nd3",
        "outputId": "95552b29-695c-40b3-c89a-2b6565641131"
      },
      "execution_count": null,
      "outputs": [
        {
          "output_type": "stream",
          "name": "stdout",
          "text": [
            "0\n",
            "1\n",
            "2\n",
            "3\n",
            "4\n"
          ]
        }
      ]
    },
    {
      "cell_type": "code",
      "source": [
        "a = ['Mary', 'had', 'a', 'little', 'lamb']\n",
        "for i in range(len(a)) :\n",
        "    print (\"i : \", i, \",a[i]:\", a[i])"
      ],
      "metadata": {
        "colab": {
          "base_uri": "https://localhost:8080/"
        },
        "id": "scPLuhE6-d65",
        "outputId": "334f0a3c-41fc-452c-d280-bd73a02b8561"
      },
      "execution_count": null,
      "outputs": [
        {
          "output_type": "stream",
          "name": "stdout",
          "text": [
            "i :  0 ,a[i]: Mary\n",
            "i :  1 ,a[i]: had\n",
            "i :  2 ,a[i]: a\n",
            "i :  3 ,a[i]: little\n",
            "i :  4 ,a[i]: lamb\n"
          ]
        }
      ]
    },
    {
      "cell_type": "code",
      "source": [
        "for i, val in enumerate(a):\n",
        "    print(i, val)\n"
      ],
      "metadata": {
        "colab": {
          "base_uri": "https://localhost:8080/"
        },
        "id": "5PqK_c_L-W9b",
        "outputId": "442bce25-4f3c-499f-d5de-8d093556b26d"
      },
      "execution_count": null,
      "outputs": [
        {
          "output_type": "stream",
          "name": "stdout",
          "text": [
            "0 Mary\n",
            "1 had\n",
            "2 a\n",
            "3 little\n",
            "4 lamb\n"
          ]
        }
      ]
    },
    {
      "cell_type": "markdown",
      "source": [
        "range 응용"
      ],
      "metadata": {
        "id": "PMOCHrmHADXD"
      }
    },
    {
      "cell_type": "code",
      "source": [
        "list(range(4))"
      ],
      "metadata": {
        "colab": {
          "base_uri": "https://localhost:8080/"
        },
        "id": "CGSqzbxjAFmf",
        "outputId": "ef271364-734f-4da2-af3f-620998dda365"
      },
      "execution_count": null,
      "outputs": [
        {
          "output_type": "execute_result",
          "data": {
            "text/plain": [
              "[0, 1, 2, 3]"
            ]
          },
          "metadata": {},
          "execution_count": 8
        }
      ]
    },
    {
      "cell_type": "code",
      "source": [
        "sum(range(4))"
      ],
      "metadata": {
        "colab": {
          "base_uri": "https://localhost:8080/"
        },
        "id": "hwdvISRzAcQc",
        "outputId": "5166d8c1-389b-4509-a6ee-57d971e4d5d4"
      },
      "execution_count": null,
      "outputs": [
        {
          "output_type": "execute_result",
          "data": {
            "text/plain": [
              "6"
            ]
          },
          "metadata": {},
          "execution_count": 10
        }
      ]
    },
    {
      "cell_type": "markdown",
      "source": [
        "조건문과 반복문 함꼐 사용하기"
      ],
      "metadata": {
        "id": "pocniPAoAp4K"
      }
    },
    {
      "cell_type": "code",
      "source": [
        "for i in range(1,11) :\n",
        "    if i % 2 == 0 :\n",
        "        print(\"짝수\")\n",
        "    else :\n",
        "        print(\"홀수\")"
      ],
      "metadata": {
        "colab": {
          "base_uri": "https://localhost:8080/"
        },
        "id": "SStBBVzjAfHv",
        "outputId": "196798c7-4bfb-4746-99ea-2ca6a3bb27ad"
      },
      "execution_count": null,
      "outputs": [
        {
          "output_type": "stream",
          "name": "stdout",
          "text": [
            "홀수\n",
            "짝수\n",
            "홀수\n",
            "짝수\n",
            "홀수\n",
            "짝수\n",
            "홀수\n",
            "짝수\n",
            "홀수\n",
            "짝수\n"
          ]
        }
      ]
    },
    {
      "cell_type": "markdown",
      "source": [
        "while 문\n",
        "\n",
        "조건문이 참인 동안 순회하며 실행되기 떄문에 특정 조건까지 반복문을 수행하고자 할때\n",
        "\n",
        "ex)특정 사이트 순회 시 내용이 없을 떄까지 순회 가능"
      ],
      "metadata": {
        "id": "YPx-5ygbCknI"
      }
    },
    {
      "cell_type": "code",
      "source": [
        "변수 = 0\n",
        "while True :\n",
        "    변수 = 변수 + 1\n",
        "    print(변수)\n",
        "    if 변수 >= 10 :\n",
        "        break"
      ],
      "metadata": {
        "colab": {
          "base_uri": "https://localhost:8080/"
        },
        "id": "cPlSyA7BBzi8",
        "outputId": "58a3039f-6fb7-4898-ee5d-64afe833b3b1"
      },
      "execution_count": null,
      "outputs": [
        {
          "output_type": "stream",
          "name": "stdout",
          "text": [
            "1\n",
            "2\n",
            "3\n",
            "4\n",
            "5\n",
            "6\n",
            "7\n",
            "8\n",
            "9\n",
            "10\n"
          ]
        }
      ]
    },
    {
      "cell_type": "markdown",
      "source": [
        "파이썬 함수"
      ],
      "metadata": {
        "id": "aDN0RFbTOGtU"
      }
    },
    {
      "cell_type": "code",
      "source": [
        "#def = define\n",
        "def average(data) :\n",
        "    \"\"\"리스트의 값을 받아 평균값을 구하는 함수\"\"\"\n",
        "    avg = sum(data) / len(data)\n",
        "    return avg"
      ],
      "metadata": {
        "id": "5v03c30XE0VG"
      },
      "execution_count": null,
      "outputs": []
    },
    {
      "cell_type": "code",
      "source": [
        "data = range(1,11)\n",
        "average(data)"
      ],
      "metadata": {
        "colab": {
          "base_uri": "https://localhost:8080/"
        },
        "id": "m24FUNxjPb8D",
        "outputId": "839bad76-1630-4b01-b817-35f4f38d9432"
      },
      "execution_count": null,
      "outputs": [
        {
          "output_type": "execute_result",
          "data": {
            "text/plain": [
              "5.5"
            ]
          },
          "metadata": {},
          "execution_count": 17
        }
      ]
    },
    {
      "cell_type": "markdown",
      "source": [
        "sum 함수 for문으로 직접 구현"
      ],
      "metadata": {
        "id": "DzmZ4p7LQMEv"
      }
    },
    {
      "cell_type": "code",
      "source": [
        "def total_sum(num) :\n",
        "    total=0\n",
        "    for i in num:\n",
        "        total = total + i\n",
        "    return total\n"
      ],
      "metadata": {
        "id": "JLoN-A--QGfx"
      },
      "execution_count": null,
      "outputs": []
    },
    {
      "cell_type": "code",
      "source": [
        "num = range(1,11)\n",
        "print(list(num))\n",
        "total_sum(num)"
      ],
      "metadata": {
        "colab": {
          "base_uri": "https://localhost:8080/"
        },
        "id": "vglnpPyIRlCb",
        "outputId": "4fc25fc3-d243-4ffa-c5e4-609108b8ef4e"
      },
      "execution_count": null,
      "outputs": [
        {
          "output_type": "stream",
          "name": "stdout",
          "text": [
            "[1, 2, 3, 4, 5, 6, 7, 8, 9, 10]\n"
          ]
        },
        {
          "output_type": "execute_result",
          "data": {
            "text/plain": [
              "55"
            ]
          },
          "metadata": {},
          "execution_count": 19
        }
      ]
    },
    {
      "cell_type": "code",
      "source": [
        "sum(num)"
      ],
      "metadata": {
        "colab": {
          "base_uri": "https://localhost:8080/"
        },
        "id": "LevkJf6LR63f",
        "outputId": "ad7ed265-a33b-411a-ba98-885e8a23cf43"
      },
      "execution_count": null,
      "outputs": [
        {
          "output_type": "execute_result",
          "data": {
            "text/plain": [
              "55"
            ]
          },
          "metadata": {},
          "execution_count": 20
        }
      ]
    },
    {
      "cell_type": "code",
      "source": [],
      "metadata": {
        "id": "RIx859YuR_JD"
      },
      "execution_count": null,
      "outputs": []
    }
  ]
}